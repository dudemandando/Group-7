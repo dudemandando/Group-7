{
  "nbformat": 4,
  "nbformat_minor": 0,
  "metadata": {
    "colab": {
      "provenance": [],
      "collapsed_sections": []
    },
    "kernelspec": {
      "name": "python3",
      "display_name": "Python 3"
    },
    "language_info": {
      "name": "python"
    }
  },
  "cells": [
    {
      "cell_type": "markdown",
      "source": [
        "\n",
        "# **XGBoost - Extreme Gradient Boosting**\n",
        "\n",
        "\n",
        "Why XG Boost?\n",
        "*   Highly Flexible\n",
        "*   Parrallel Processing\n",
        "*   Supports Regularization\n",
        "*   Ideal for small to Medium Dataset\n",
        "*   **Able to run Cross Validation after each iteration**\n",
        "*   **Availability of GPU Acceleration**"
      ],
      "metadata": {
        "id": "yIoIwjssD-QN"
      }
    },
    {
      "cell_type": "code",
      "execution_count": null,
      "metadata": {
        "id": "gatc9bZkzXNB"
      },
      "outputs": [],
      "source": [
        "# import packages for analysis and modeling\n",
        "import pandas as pd #data frame operations\n",
        "import numpy as np #arrays and math functions\n",
        "from scipy.stats import uniform #for training and test splits\n",
        "import statsmodels.api as smf #R-like model specification\n",
        "import matplotlib.pyplot as plt #2D plotting\n",
        "from google.colab import files\n",
        "import io\n",
        "import xgboost\n",
        "from sklearn.pipeline import make_pipeline\n",
        "from sklearn.preprocessing import StandardScaler, LabelEncoder\n",
        "from sklearn.model_selection import cross_val_score, train_test_split, GridSearchCV\n",
        "from xgboost import XGBRegressor\n",
        "from sklearn.model_selection import GridSearchCV"
      ]
    },
    {
      "cell_type": "markdown",
      "source": [
        "After preprocessing our data set which included reformating the data we exported our data to a csv for more expident access.\n",
        "\n",
        "Preprocessing included:\n",
        "*   Converting string features to a \"Category\" data type\n",
        "*   Addition of \"Day of Year\", \"Week of Year\" in order to add more granularity to our data.\n"
      ],
      "metadata": {
        "id": "MewFgahGEhln"
      }
    },
    {
      "cell_type": "code",
      "source": [
        "bikes = pd.read_csv('https://raw.githubusercontent.com/dudemandando/Data/main/bikeDataClean.csv')\n",
        "del bikes['Unnamed: 0']\n",
        "bikes['Seasons'] = bikes['Seasons'].astype('category')\n",
        "bikes['Holiday'] = bikes['Holiday'].astype('category')\n",
        "bikes['Functioning_Day'] = bikes['Functioning_Day'].astype('category')\n",
        "bikes['Weekday'] = bikes['Weekday'].astype('category')\n",
        "bikes.dtypes"
      ],
      "metadata": {
        "colab": {
          "base_uri": "https://localhost:8080/"
        },
        "id": "qAUls3ejzbR-",
        "outputId": "c2d12204-e132-489f-9fc3-8717ca83e570"
      },
      "execution_count": null,
      "outputs": [
        {
          "output_type": "execute_result",
          "data": {
            "text/plain": [
              "Date                       object\n",
              "Rented_Bike_Count           int64\n",
              "Hour                        int64\n",
              "Temperature               float64\n",
              "Humidity                    int64\n",
              "Wind_Speed                float64\n",
              "Visibility                  int64\n",
              "Dew_Point_Temperature     float64\n",
              "Solar_Radiation           float64\n",
              "Rainfall                  float64\n",
              "Snowfall                  float64\n",
              "Seasons                  category\n",
              "Holiday                  category\n",
              "Functioning_Day          category\n",
              "Year                        int64\n",
              "Month                       int64\n",
              "Day                         int64\n",
              "Weekday                  category\n",
              "year                        int64\n",
              "month                       int64\n",
              "dayofweek                   int64\n",
              "weekofyear                  int64\n",
              "dtype: object"
            ]
          },
          "metadata": {},
          "execution_count": 72
        }
      ]
    },
    {
      "cell_type": "markdown",
      "source": [
        "# Split Data (X,Y)\n",
        "\n",
        "Upon completion of our preprocessing, we now split our data into our dependant and independent variables.\n",
        "\n",
        "Our target is to predict the Rented bike count for a given day with enviromental (weather) features. To do this we must create our x variable which does not contain the rented bike count nor date."
      ],
      "metadata": {
        "id": "PShIG52QFU1O"
      }
    },
    {
      "cell_type": "code",
      "source": [
        "x = bikes.drop(columns=['Rented_Bike_Count', 'Date'])\n",
        "y = bikes.Rented_Bike_Count\n",
        "\n"
      ],
      "metadata": {
        "id": "6PP8tkPRzkAv"
      },
      "execution_count": null,
      "outputs": []
    },
    {
      "cell_type": "markdown",
      "source": [
        "# Encode Categorical Data as Numrical\n",
        "\n",
        "Looking at our above console print out we see that we possess \"category\" columns (specifically **Holiday**, **Functioning** **Day**, **Seasons**, **Weekday**. In order to successfuly run and generater an gradient-boosted model we must convert these columns to a numerical value. We do this by instatiating the **\"Label Encoder\"** from the SKLearn library. \n",
        "\n",
        "**Note:** It is possible to encode this values by column (example below) should a user require more control and/or wish to view all categories generated. This may be more valuable in other datasets where categories may be excessive in size.\n",
        "```\n",
        "seasons_cat = bikes[['Seasons']]\n",
        "holiday_cat = bikes[['Holiday']]\n",
        "func_day_cat = bikes[['Functioning_Day']]\n",
        "weekday_cat = bikes[['Weekday']]\n",
        "\n",
        "seasons_encoder = OrdinalEncoder()\n",
        "\n",
        "seasons_encoded = seasons_encoder.fit_transform(seasons_cat)\n",
        "holiday_encoder = OrdinalEncoder()\n",
        "holiday_encoded = holiday_encoder.fit_transform(holiday_cat)\n",
        "func_day_encoder = OrdinalEncoder()\n",
        "func_day_encoded = func_day_encoder.fit_transform(func_day_cat)\n",
        "weekday_encoder = OrdinalEncoder()\n",
        "weekday_encoded = weekday_encoder.fit_transform(weekday_cat)\n",
        "```\n",
        "\n"
      ],
      "metadata": {
        "id": "DccHDgPDF-5G"
      }
    },
    {
      "cell_type": "code",
      "source": [
        "\n",
        "labelEncoder = LabelEncoder()\n",
        "categ = ['Holiday', 'Functioning_Day', 'Seasons', 'Weekday']\n",
        "x[categ] = x[categ].apply(labelEncoder.fit_transform)\n"
      ],
      "metadata": {
        "id": "Dn9CyNhlF98a"
      },
      "execution_count": null,
      "outputs": []
    },
    {
      "cell_type": "markdown",
      "source": [
        "# Generate Test and Train Subgroups"
      ],
      "metadata": {
        "id": "gc5B2qlhIoXb"
      }
    },
    {
      "cell_type": "code",
      "source": [
        "X_train, X_test, y_train, y_test = train_test_split(x, y, test_size=0.33)"
      ],
      "metadata": {
        "id": "Ihjk8g0dGzWC"
      },
      "execution_count": null,
      "outputs": []
    },
    {
      "cell_type": "markdown",
      "source": [
        "# **Find Best Hyper Parameters**"
      ],
      "metadata": {
        "id": "MMmH-kYrReHe"
      }
    },
    {
      "cell_type": "code",
      "source": [
        "regressor = xgboost.XGBRegressor()\n",
        "\n",
        "param_grid = {\n",
        " \"max_depth\"        : [ 3, 4, 5, 6, 8, 10, 12, 15],\n",
        " \"n_estimators\"        : [70, 75, 80]\n",
        "\n",
        " }\n",
        "\n",
        "search = GridSearchCV(regressor, param_grid).fit(X_train, y_train)\n",
        "\n",
        "print(\"The best hyperparameters are \",search.best_params_)"
      ],
      "metadata": {
        "colab": {
          "base_uri": "https://localhost:8080/"
        },
        "id": "aocS890kRhrv",
        "outputId": "e79dccbf-4cf6-4bb8-a53d-cecd077ff478"
      },
      "execution_count": 82,
      "outputs": [
        {
          "output_type": "stream",
          "name": "stdout",
          "text": [
            "[21:28:48] WARNING: /workspace/src/objective/regression_obj.cu:152: reg:linear is now deprecated in favor of reg:squarederror.\n",
            "[21:28:48] WARNING: /workspace/src/objective/regression_obj.cu:152: reg:linear is now deprecated in favor of reg:squarederror.\n",
            "[21:28:49] WARNING: /workspace/src/objective/regression_obj.cu:152: reg:linear is now deprecated in favor of reg:squarederror.\n",
            "[21:28:49] WARNING: /workspace/src/objective/regression_obj.cu:152: reg:linear is now deprecated in favor of reg:squarederror.\n",
            "[21:28:49] WARNING: /workspace/src/objective/regression_obj.cu:152: reg:linear is now deprecated in favor of reg:squarederror.\n",
            "[21:28:49] WARNING: /workspace/src/objective/regression_obj.cu:152: reg:linear is now deprecated in favor of reg:squarederror.\n",
            "[21:28:50] WARNING: /workspace/src/objective/regression_obj.cu:152: reg:linear is now deprecated in favor of reg:squarederror.\n",
            "[21:28:50] WARNING: /workspace/src/objective/regression_obj.cu:152: reg:linear is now deprecated in favor of reg:squarederror.\n",
            "[21:28:50] WARNING: /workspace/src/objective/regression_obj.cu:152: reg:linear is now deprecated in favor of reg:squarederror.\n",
            "[21:28:51] WARNING: /workspace/src/objective/regression_obj.cu:152: reg:linear is now deprecated in favor of reg:squarederror.\n",
            "[21:28:51] WARNING: /workspace/src/objective/regression_obj.cu:152: reg:linear is now deprecated in favor of reg:squarederror.\n",
            "[21:28:51] WARNING: /workspace/src/objective/regression_obj.cu:152: reg:linear is now deprecated in favor of reg:squarederror.\n",
            "[21:28:51] WARNING: /workspace/src/objective/regression_obj.cu:152: reg:linear is now deprecated in favor of reg:squarederror.\n",
            "[21:28:52] WARNING: /workspace/src/objective/regression_obj.cu:152: reg:linear is now deprecated in favor of reg:squarederror.\n",
            "[21:28:52] WARNING: /workspace/src/objective/regression_obj.cu:152: reg:linear is now deprecated in favor of reg:squarederror.\n",
            "[21:28:52] WARNING: /workspace/src/objective/regression_obj.cu:152: reg:linear is now deprecated in favor of reg:squarederror.\n",
            "[21:28:53] WARNING: /workspace/src/objective/regression_obj.cu:152: reg:linear is now deprecated in favor of reg:squarederror.\n",
            "[21:28:53] WARNING: /workspace/src/objective/regression_obj.cu:152: reg:linear is now deprecated in favor of reg:squarederror.\n",
            "[21:28:53] WARNING: /workspace/src/objective/regression_obj.cu:152: reg:linear is now deprecated in favor of reg:squarederror.\n",
            "[21:28:54] WARNING: /workspace/src/objective/regression_obj.cu:152: reg:linear is now deprecated in favor of reg:squarederror.\n",
            "[21:28:54] WARNING: /workspace/src/objective/regression_obj.cu:152: reg:linear is now deprecated in favor of reg:squarederror.\n",
            "[21:28:54] WARNING: /workspace/src/objective/regression_obj.cu:152: reg:linear is now deprecated in favor of reg:squarederror.\n",
            "[21:28:55] WARNING: /workspace/src/objective/regression_obj.cu:152: reg:linear is now deprecated in favor of reg:squarederror.\n",
            "[21:28:55] WARNING: /workspace/src/objective/regression_obj.cu:152: reg:linear is now deprecated in favor of reg:squarederror.\n",
            "[21:28:55] WARNING: /workspace/src/objective/regression_obj.cu:152: reg:linear is now deprecated in favor of reg:squarederror.\n",
            "[21:28:56] WARNING: /workspace/src/objective/regression_obj.cu:152: reg:linear is now deprecated in favor of reg:squarederror.\n",
            "[21:28:57] WARNING: /workspace/src/objective/regression_obj.cu:152: reg:linear is now deprecated in favor of reg:squarederror.\n",
            "[21:28:57] WARNING: /workspace/src/objective/regression_obj.cu:152: reg:linear is now deprecated in favor of reg:squarederror.\n",
            "[21:28:58] WARNING: /workspace/src/objective/regression_obj.cu:152: reg:linear is now deprecated in favor of reg:squarederror.\n",
            "[21:28:59] WARNING: /workspace/src/objective/regression_obj.cu:152: reg:linear is now deprecated in favor of reg:squarederror.\n",
            "[21:29:00] WARNING: /workspace/src/objective/regression_obj.cu:152: reg:linear is now deprecated in favor of reg:squarederror.\n",
            "[21:29:00] WARNING: /workspace/src/objective/regression_obj.cu:152: reg:linear is now deprecated in favor of reg:squarederror.\n",
            "[21:29:01] WARNING: /workspace/src/objective/regression_obj.cu:152: reg:linear is now deprecated in favor of reg:squarederror.\n",
            "[21:29:01] WARNING: /workspace/src/objective/regression_obj.cu:152: reg:linear is now deprecated in favor of reg:squarederror.\n",
            "[21:29:02] WARNING: /workspace/src/objective/regression_obj.cu:152: reg:linear is now deprecated in favor of reg:squarederror.\n",
            "[21:29:02] WARNING: /workspace/src/objective/regression_obj.cu:152: reg:linear is now deprecated in favor of reg:squarederror.\n",
            "[21:29:03] WARNING: /workspace/src/objective/regression_obj.cu:152: reg:linear is now deprecated in favor of reg:squarederror.\n",
            "[21:29:03] WARNING: /workspace/src/objective/regression_obj.cu:152: reg:linear is now deprecated in favor of reg:squarederror.\n",
            "[21:29:04] WARNING: /workspace/src/objective/regression_obj.cu:152: reg:linear is now deprecated in favor of reg:squarederror.\n",
            "[21:29:04] WARNING: /workspace/src/objective/regression_obj.cu:152: reg:linear is now deprecated in favor of reg:squarederror.\n",
            "[21:29:04] WARNING: /workspace/src/objective/regression_obj.cu:152: reg:linear is now deprecated in favor of reg:squarederror.\n",
            "[21:29:05] WARNING: /workspace/src/objective/regression_obj.cu:152: reg:linear is now deprecated in favor of reg:squarederror.\n",
            "[21:29:05] WARNING: /workspace/src/objective/regression_obj.cu:152: reg:linear is now deprecated in favor of reg:squarederror.\n",
            "[21:29:06] WARNING: /workspace/src/objective/regression_obj.cu:152: reg:linear is now deprecated in favor of reg:squarederror.\n",
            "[21:29:06] WARNING: /workspace/src/objective/regression_obj.cu:152: reg:linear is now deprecated in favor of reg:squarederror.\n",
            "[21:29:07] WARNING: /workspace/src/objective/regression_obj.cu:152: reg:linear is now deprecated in favor of reg:squarederror.\n",
            "[21:29:07] WARNING: /workspace/src/objective/regression_obj.cu:152: reg:linear is now deprecated in favor of reg:squarederror.\n",
            "[21:29:08] WARNING: /workspace/src/objective/regression_obj.cu:152: reg:linear is now deprecated in favor of reg:squarederror.\n",
            "[21:29:09] WARNING: /workspace/src/objective/regression_obj.cu:152: reg:linear is now deprecated in favor of reg:squarederror.\n",
            "[21:29:09] WARNING: /workspace/src/objective/regression_obj.cu:152: reg:linear is now deprecated in favor of reg:squarederror.\n",
            "[21:29:10] WARNING: /workspace/src/objective/regression_obj.cu:152: reg:linear is now deprecated in favor of reg:squarederror.\n",
            "[21:29:10] WARNING: /workspace/src/objective/regression_obj.cu:152: reg:linear is now deprecated in favor of reg:squarederror.\n",
            "[21:29:11] WARNING: /workspace/src/objective/regression_obj.cu:152: reg:linear is now deprecated in favor of reg:squarederror.\n",
            "[21:29:11] WARNING: /workspace/src/objective/regression_obj.cu:152: reg:linear is now deprecated in favor of reg:squarederror.\n",
            "[21:29:12] WARNING: /workspace/src/objective/regression_obj.cu:152: reg:linear is now deprecated in favor of reg:squarederror.\n",
            "[21:29:13] WARNING: /workspace/src/objective/regression_obj.cu:152: reg:linear is now deprecated in favor of reg:squarederror.\n",
            "[21:29:13] WARNING: /workspace/src/objective/regression_obj.cu:152: reg:linear is now deprecated in favor of reg:squarederror.\n",
            "[21:29:14] WARNING: /workspace/src/objective/regression_obj.cu:152: reg:linear is now deprecated in favor of reg:squarederror.\n",
            "[21:29:14] WARNING: /workspace/src/objective/regression_obj.cu:152: reg:linear is now deprecated in favor of reg:squarederror.\n",
            "[21:29:15] WARNING: /workspace/src/objective/regression_obj.cu:152: reg:linear is now deprecated in favor of reg:squarederror.\n",
            "[21:29:16] WARNING: /workspace/src/objective/regression_obj.cu:152: reg:linear is now deprecated in favor of reg:squarederror.\n",
            "[21:29:16] WARNING: /workspace/src/objective/regression_obj.cu:152: reg:linear is now deprecated in favor of reg:squarederror.\n",
            "[21:29:17] WARNING: /workspace/src/objective/regression_obj.cu:152: reg:linear is now deprecated in favor of reg:squarederror.\n",
            "[21:29:18] WARNING: /workspace/src/objective/regression_obj.cu:152: reg:linear is now deprecated in favor of reg:squarederror.\n",
            "[21:29:19] WARNING: /workspace/src/objective/regression_obj.cu:152: reg:linear is now deprecated in favor of reg:squarederror.\n",
            "[21:29:20] WARNING: /workspace/src/objective/regression_obj.cu:152: reg:linear is now deprecated in favor of reg:squarederror.\n",
            "[21:29:21] WARNING: /workspace/src/objective/regression_obj.cu:152: reg:linear is now deprecated in favor of reg:squarederror.\n",
            "[21:29:21] WARNING: /workspace/src/objective/regression_obj.cu:152: reg:linear is now deprecated in favor of reg:squarederror.\n",
            "[21:29:22] WARNING: /workspace/src/objective/regression_obj.cu:152: reg:linear is now deprecated in favor of reg:squarederror.\n",
            "[21:29:23] WARNING: /workspace/src/objective/regression_obj.cu:152: reg:linear is now deprecated in favor of reg:squarederror.\n",
            "[21:29:24] WARNING: /workspace/src/objective/regression_obj.cu:152: reg:linear is now deprecated in favor of reg:squarederror.\n",
            "[21:29:25] WARNING: /workspace/src/objective/regression_obj.cu:152: reg:linear is now deprecated in favor of reg:squarederror.\n",
            "[21:29:26] WARNING: /workspace/src/objective/regression_obj.cu:152: reg:linear is now deprecated in favor of reg:squarederror.\n",
            "[21:29:27] WARNING: /workspace/src/objective/regression_obj.cu:152: reg:linear is now deprecated in favor of reg:squarederror.\n",
            "[21:29:28] WARNING: /workspace/src/objective/regression_obj.cu:152: reg:linear is now deprecated in favor of reg:squarederror.\n",
            "[21:29:28] WARNING: /workspace/src/objective/regression_obj.cu:152: reg:linear is now deprecated in favor of reg:squarederror.\n",
            "[21:29:30] WARNING: /workspace/src/objective/regression_obj.cu:152: reg:linear is now deprecated in favor of reg:squarederror.\n",
            "[21:29:31] WARNING: /workspace/src/objective/regression_obj.cu:152: reg:linear is now deprecated in favor of reg:squarederror.\n",
            "[21:29:32] WARNING: /workspace/src/objective/regression_obj.cu:152: reg:linear is now deprecated in favor of reg:squarederror.\n",
            "[21:29:33] WARNING: /workspace/src/objective/regression_obj.cu:152: reg:linear is now deprecated in favor of reg:squarederror.\n",
            "[21:29:35] WARNING: /workspace/src/objective/regression_obj.cu:152: reg:linear is now deprecated in favor of reg:squarederror.\n",
            "[21:29:36] WARNING: /workspace/src/objective/regression_obj.cu:152: reg:linear is now deprecated in favor of reg:squarederror.\n",
            "[21:29:38] WARNING: /workspace/src/objective/regression_obj.cu:152: reg:linear is now deprecated in favor of reg:squarederror.\n",
            "[21:29:39] WARNING: /workspace/src/objective/regression_obj.cu:152: reg:linear is now deprecated in favor of reg:squarederror.\n",
            "[21:29:41] WARNING: /workspace/src/objective/regression_obj.cu:152: reg:linear is now deprecated in favor of reg:squarederror.\n",
            "[21:29:42] WARNING: /workspace/src/objective/regression_obj.cu:152: reg:linear is now deprecated in favor of reg:squarederror.\n",
            "[21:29:43] WARNING: /workspace/src/objective/regression_obj.cu:152: reg:linear is now deprecated in favor of reg:squarederror.\n",
            "[21:29:44] WARNING: /workspace/src/objective/regression_obj.cu:152: reg:linear is now deprecated in favor of reg:squarederror.\n",
            "[21:29:46] WARNING: /workspace/src/objective/regression_obj.cu:152: reg:linear is now deprecated in favor of reg:squarederror.\n",
            "[21:29:47] WARNING: /workspace/src/objective/regression_obj.cu:152: reg:linear is now deprecated in favor of reg:squarederror.\n",
            "[21:29:48] WARNING: /workspace/src/objective/regression_obj.cu:152: reg:linear is now deprecated in favor of reg:squarederror.\n",
            "[21:29:50] WARNING: /workspace/src/objective/regression_obj.cu:152: reg:linear is now deprecated in favor of reg:squarederror.\n",
            "[21:29:51] WARNING: /workspace/src/objective/regression_obj.cu:152: reg:linear is now deprecated in favor of reg:squarederror.\n",
            "[21:29:52] WARNING: /workspace/src/objective/regression_obj.cu:152: reg:linear is now deprecated in favor of reg:squarederror.\n",
            "[21:29:54] WARNING: /workspace/src/objective/regression_obj.cu:152: reg:linear is now deprecated in favor of reg:squarederror.\n",
            "[21:29:55] WARNING: /workspace/src/objective/regression_obj.cu:152: reg:linear is now deprecated in favor of reg:squarederror.\n",
            "[21:29:57] WARNING: /workspace/src/objective/regression_obj.cu:152: reg:linear is now deprecated in favor of reg:squarederror.\n",
            "[21:29:59] WARNING: /workspace/src/objective/regression_obj.cu:152: reg:linear is now deprecated in favor of reg:squarederror.\n",
            "[21:30:00] WARNING: /workspace/src/objective/regression_obj.cu:152: reg:linear is now deprecated in favor of reg:squarederror.\n",
            "[21:30:02] WARNING: /workspace/src/objective/regression_obj.cu:152: reg:linear is now deprecated in favor of reg:squarederror.\n",
            "[21:30:03] WARNING: /workspace/src/objective/regression_obj.cu:152: reg:linear is now deprecated in favor of reg:squarederror.\n",
            "[21:30:05] WARNING: /workspace/src/objective/regression_obj.cu:152: reg:linear is now deprecated in favor of reg:squarederror.\n",
            "[21:30:07] WARNING: /workspace/src/objective/regression_obj.cu:152: reg:linear is now deprecated in favor of reg:squarederror.\n",
            "[21:30:08] WARNING: /workspace/src/objective/regression_obj.cu:152: reg:linear is now deprecated in favor of reg:squarederror.\n",
            "[21:30:10] WARNING: /workspace/src/objective/regression_obj.cu:152: reg:linear is now deprecated in favor of reg:squarederror.\n",
            "[21:30:11] WARNING: /workspace/src/objective/regression_obj.cu:152: reg:linear is now deprecated in favor of reg:squarederror.\n",
            "[21:30:13] WARNING: /workspace/src/objective/regression_obj.cu:152: reg:linear is now deprecated in favor of reg:squarederror.\n",
            "[21:30:15] WARNING: /workspace/src/objective/regression_obj.cu:152: reg:linear is now deprecated in favor of reg:squarederror.\n",
            "[21:30:17] WARNING: /workspace/src/objective/regression_obj.cu:152: reg:linear is now deprecated in favor of reg:squarederror.\n",
            "[21:30:19] WARNING: /workspace/src/objective/regression_obj.cu:152: reg:linear is now deprecated in favor of reg:squarederror.\n",
            "[21:30:21] WARNING: /workspace/src/objective/regression_obj.cu:152: reg:linear is now deprecated in favor of reg:squarederror.\n",
            "[21:30:23] WARNING: /workspace/src/objective/regression_obj.cu:152: reg:linear is now deprecated in favor of reg:squarederror.\n",
            "[21:30:25] WARNING: /workspace/src/objective/regression_obj.cu:152: reg:linear is now deprecated in favor of reg:squarederror.\n",
            "[21:30:27] WARNING: /workspace/src/objective/regression_obj.cu:152: reg:linear is now deprecated in favor of reg:squarederror.\n",
            "[21:30:29] WARNING: /workspace/src/objective/regression_obj.cu:152: reg:linear is now deprecated in favor of reg:squarederror.\n",
            "[21:30:32] WARNING: /workspace/src/objective/regression_obj.cu:152: reg:linear is now deprecated in favor of reg:squarederror.\n",
            "[21:30:34] WARNING: /workspace/src/objective/regression_obj.cu:152: reg:linear is now deprecated in favor of reg:squarederror.\n",
            "[21:30:36] WARNING: /workspace/src/objective/regression_obj.cu:152: reg:linear is now deprecated in favor of reg:squarederror.\n",
            "[21:30:38] WARNING: /workspace/src/objective/regression_obj.cu:152: reg:linear is now deprecated in favor of reg:squarederror.\n",
            "[21:30:40] WARNING: /workspace/src/objective/regression_obj.cu:152: reg:linear is now deprecated in favor of reg:squarederror.\n",
            "[21:30:43] WARNING: /workspace/src/objective/regression_obj.cu:152: reg:linear is now deprecated in favor of reg:squarederror.\n",
            "The best hyperparameters are  {'max_depth': 8, 'n_estimators': 80}\n"
          ]
        }
      ]
    },
    {
      "cell_type": "markdown",
      "source": [
        "# **First Model**\n",
        "\n",
        "Before tuning any parameters we'll first create a generic model to view "
      ],
      "metadata": {
        "id": "jODH5D2-JqM5"
      }
    },
    {
      "cell_type": "code",
      "source": [
        "firstXGModel = make_pipeline(StandardScaler(), XGBRegressor(silent=1))\n",
        "# Cross-validation\n",
        "cv = cross_val_score(firstXGModel, X_train, y_train, cv=10)\n",
        "\n",
        "print('Average R2', np.mean(cv))"
      ],
      "metadata": {
        "id": "CxdcwErHzy9y",
        "colab": {
          "base_uri": "https://localhost:8080/"
        },
        "outputId": "422a097b-c4f4-4d28-84e9-5ac581eef02f"
      },
      "execution_count": 78,
      "outputs": [
        {
          "output_type": "stream",
          "name": "stdout",
          "text": [
            "Average R2 0.8474211666407022\n"
          ]
        }
      ]
    },
    {
      "cell_type": "code",
      "source": [
        "firstXGModel.fit(X_train, y_train)\n",
        "y_pred = firstXGModel.predict(X_test)\n",
        "\n",
        "# 1:1 line\n",
        "x = np.linspace(0,3500,10)\n",
        "y = x\n",
        "\n",
        "# Scatter plot predicted vs. actual\n",
        "plt.scatter(y_pred, y_test)\n",
        "plt.plot(x, y, c='r')\n",
        "plt.gca().set_aspect('equal')\n",
        "plt.xlabel('Predicted Bike Rentals', size=10)\n",
        "plt.ylabel('Actual Bike Rentals', size=12)\n",
        "plt.title('Actual vs. Predicted Bike Rentals', size=12)"
      ],
      "metadata": {
        "id": "rNiSwQ5aMgqE",
        "colab": {
          "base_uri": "https://localhost:8080/",
          "height": 313
        },
        "outputId": "4a20ccf4-af34-42de-bc45-78251d51d9c1"
      },
      "execution_count": 79,
      "outputs": [
        {
          "output_type": "execute_result",
          "data": {
            "text/plain": [
              "Text(0.5, 1.0, 'Actual vs. Predicted Bike Rentals')"
            ]
          },
          "metadata": {},
          "execution_count": 79
        },
        {
          "output_type": "display_data",
          "data": {
            "text/plain": [
              "<Figure size 432x288 with 1 Axes>"
            ],
            "image/png": "[encoded data removed]"
          },
          "metadata": {
            "needs_background": "light"
          }
        }
      ]
    },
    {
      "cell_type": "markdown",
      "source": [
        "# **Visualization of Tree**\n",
        "\n",
        "\n"
      ],
      "metadata": {
        "id": "g9JQvQO_MXGB"
      }
    },
    {
      "cell_type": "code",
      "source": [
        "import matplotlib.pyplot as plt\n",
        "from xgboost import plot_tree"
      ],
      "metadata": {
        "id": "Qbdf7RnDMdkF"
      },
      "execution_count": null,
      "outputs": []
    },
    {
      "cell_type": "code",
      "source": [
        "xgboost.plot_tree(firstXGModel.steps, num_trees=4)"
      ],
      "metadata": {
        "id": "5G21xSfAN3uf"
      },
      "execution_count": null,
      "outputs": []
    },
    {
      "cell_type": "markdown",
      "source": [
        "# Follow On Models With Tuning\n",
        " \n",
        " Parameters: \n",
        " n_estimators  \"Number of gradient boosted trees. Equivalent to number \n",
        "                of boosting rounds.\"\n",
        " learning_rate \"Boosting learning rate (also known as “eta”)\"\n",
        " \n",
        " max_depth     \"Maximum depth of a tree. Increasing this value will make \n",
        "                the model more complex and more likely to overfit.\" \n"
      ],
      "metadata": {
        "id": "2T4k2FBhJuCG"
      }
    },
    {
      "cell_type": "code",
      "source": [
        "secondXGModel = make_pipeline(StandardScaler(), XGBRegressor(silent=1, n_estimators=80, max_depth=8, eta=0.01,\n",
        "                                                    subsample=0.6))\n",
        "\n",
        "# Cross-validation\n",
        "cv = cross_val_score(secondXGModel, X_train, y_train, cv=10)\n",
        "print('Average R2', np.mean(cv))"
      ],
      "metadata": {
        "id": "OqcxoV0Lz6el",
        "colab": {
          "base_uri": "https://localhost:8080/"
        },
        "outputId": "fc55524d-95ff-4ff3-bcb3-db721d8dd6b4"
      },
      "execution_count": 87,
      "outputs": [
        {
          "output_type": "stream",
          "name": "stdout",
          "text": [
            "Average R2 0.9158082004469948\n"
          ]
        }
      ]
    },
    {
      "cell_type": "code",
      "source": [
        "secondXGModel.fit(X_train, y_train)\n",
        "y_pred = secondXGModel.predict(X_test)"
      ],
      "metadata": {
        "id": "6v_2dkPr1ASf"
      },
      "execution_count": 88,
      "outputs": []
    },
    {
      "cell_type": "code",
      "source": [
        "\n",
        "# 1:1 line\n",
        "x = np.linspace(0,3500,10)\n",
        "y = x\n",
        "\n",
        "# Scatter plot predicted vs. actual\n",
        "plt.scatter(y_pred, y_test)\n",
        "plt.plot(x, y, c='r')\n",
        "plt.gca().set_aspect('equal')\n",
        "plt.xlabel('Predicted Bike Rentals', size=10)\n",
        "plt.ylabel('Actual Bike Rentals', size=12)\n",
        "plt.title('Actual vs. Predicted Bike Rentals', size=12)"
      ],
      "metadata": {
        "id": "RtQIXop707UW",
        "colab": {
          "base_uri": "https://localhost:8080/",
          "height": 313
        },
        "outputId": "40c96c93-c4f1-4f5a-f046-5c805edfefc4"
      },
      "execution_count": 89,
      "outputs": [
        {
          "output_type": "execute_result",
          "data": {
            "text/plain": [
              "Text(0.5, 1.0, 'Actual vs. Predicted Bike Rentals')"
            ]
          },
          "metadata": {},
          "execution_count": 89
        },
        {
          "output_type": "display_data",
          "data": {
            "text/plain": [
              "<Figure size 432x288 with 1 Axes>"
            ],
            "image/png": "[encoded data removed]"
          },
          "metadata": {
            "needs_background": "light"
          }
        }
      ]
    },
    {
      "cell_type": "code",
      "source": [
        "secondXGModel = make_pipeline(StandardScaler(), XGBRegressor(silent=1, n_estimators=82, max_depth=12, eta=0.01,\n",
        "                                                    subsample=0.7))\n",
        "\n",
        "# Cross-validation\n",
        "cv = cross_val_score(secondXGModel, X_train, y_train, cv=10)\n",
        "print('Average R2', np.mean(cv))\n",
        "\n",
        "secondXGModel.fit(X_train, y_train)\n",
        "y_pred = secondXGModel.predict(X_test)\n",
        "\n",
        "# 1:1 line\n",
        "x = np.linspace(0,3500,10)\n",
        "y = x\n",
        "\n",
        "# Scatter plot predicted vs. actual\n",
        "plt.scatter(y_pred, y_test)\n",
        "plt.plot(x, y, c='r')\n",
        "plt.gca().set_aspect('equal')\n",
        "plt.xlabel('Predicted Bike Rentals', size=10)\n",
        "plt.ylabel('Actual Bike Rentals', size=12)\n",
        "plt.title('Actual vs. Predicted Bike Rentals', size=12)"
      ],
      "metadata": {
        "id": "WqiXqiqPKoqz",
        "colab": {
          "base_uri": "https://localhost:8080/",
          "height": 332
        },
        "outputId": "32b5c8b9-5ea3-401e-c0aa-3ae9dda84fe9"
      },
      "execution_count": 93,
      "outputs": [
        {
          "output_type": "stream",
          "name": "stdout",
          "text": [
            "Average R2 0.9168510682418903\n"
          ]
        },
        {
          "output_type": "execute_result",
          "data": {
            "text/plain": [
              "Text(0.5, 1.0, 'Actual vs. Predicted Bike Rentals')"
            ]
          },
          "metadata": {},
          "execution_count": 93
        },
        {
          "output_type": "display_data",
          "data": {
            "text/plain": [
              "<Figure size 432x288 with 1 Axes>"
            ],
            "image/png": "[encoded data removed]"
          },
          "metadata": {
            "needs_background": "light"
          }
        }
      ]
    },
    {
      "cell_type": "code",
      "source": [
        "secondXGModel = make_pipeline(StandardScaler(), XGBRegressor(silent=1, n_estimators=85, max_depth=12, eta=0.01,\n",
        "                                                    subsample=0.55))\n",
        "\n",
        "# Cross-validation\n",
        "cv = cross_val_score(secondXGModel, X_train, y_train, cv=10)\n",
        "print('Average R2', np.mean(cv))\n",
        "\n",
        "secondXGModel.fit(X_train, y_train)\n",
        "y_pred = secondXGModel.predict(X_test)\n",
        "\n",
        "# 1:1 line\n",
        "x = np.linspace(0,3500,10)\n",
        "y = x\n",
        "\n",
        "# Scatter plot predicted vs. actual\n",
        "plt.scatter(y_pred, y_test)\n",
        "plt.plot(x, y, c='r')\n",
        "plt.gca().set_aspect('equal')\n",
        "plt.xlabel('Predicted Bike Rentals', size=10)\n",
        "plt.ylabel('Actual Bike Rentals', size=12)\n",
        "plt.title('Actual vs. Predicted Bike Rentals', size=12)"
      ],
      "metadata": {
        "id": "Y8oSeSkiLIPK",
        "colab": {
          "base_uri": "https://localhost:8080/",
          "height": 332
        },
        "outputId": "f11cf776-0fc1-43b3-b4df-5588145f63d7"
      },
      "execution_count": 90,
      "outputs": [
        {
          "output_type": "stream",
          "name": "stdout",
          "text": [
            "Average R2 0.9189242934507138\n"
          ]
        },
        {
          "output_type": "execute_result",
          "data": {
            "text/plain": [
              "Text(0.5, 1.0, 'Actual vs. Predicted Bike Rentals')"
            ]
          },
          "metadata": {},
          "execution_count": 90
        },
        {
          "output_type": "display_data",
          "data": {
            "text/plain": [
              "<Figure size 432x288 with 1 Axes>"
            ],
            "image/png": "[encoded data removed]"
          },
          "metadata": {
            "needs_background": "light"
          }
        }
      ]
    },
    {
      "cell_type": "code",
      "source": [
        "secondXGModel = make_pipeline(StandardScaler(), XGBRegressor(silent=1, n_estimators=60, max_depth=7, eta=0.01,\n",
        "                                                    subsample=0.55, gamma=0.5))\n",
        "\n",
        "# Cross-validation\n",
        "cv = cross_val_score(secondXGModel, X_train, y_train, cv=10)\n",
        "print('Average R2', np.mean(cv))\n",
        "\n",
        "secondXGModel.fit(X_train, y_train)\n",
        "y_pred = secondXGModel.predict(X_test)\n",
        "\n",
        "# 1:1 line\n",
        "x = np.linspace(0,3500,10)\n",
        "y = x\n",
        "\n",
        "# Scatter plot predicted vs. actual\n",
        "plt.scatter(y_pred, y_test)\n",
        "plt.plot(x, y, c='r')\n",
        "plt.gca().set_aspect('equal')\n",
        "plt.xlabel('Predicted Bike Rentals', size=10)\n",
        "plt.ylabel('Actual Bike Rentals', size=12)\n",
        "plt.title('Actual vs. Predicted Bike Rentals', size=12)"
      ],
      "metadata": {
        "id": "GfVLlPe6LW5L",
        "colab": {
          "base_uri": "https://localhost:8080/",
          "height": 332
        },
        "outputId": "624b0f16-9050-487b-8ebc-1bbd0d2bd8f0"
      },
      "execution_count": 91,
      "outputs": [
        {
          "output_type": "stream",
          "name": "stdout",
          "text": [
            "Average R2 0.9101353621641912\n"
          ]
        },
        {
          "output_type": "execute_result",
          "data": {
            "text/plain": [
              "Text(0.5, 1.0, 'Actual vs. Predicted Bike Rentals')"
            ]
          },
          "metadata": {},
          "execution_count": 91
        },
        {
          "output_type": "display_data",
          "data": {
            "text/plain": [
              "<Figure size 432x288 with 1 Axes>"
            ],
            "image/png": "[encoded data removed]"
          },
          "metadata": {
            "needs_background": "light"
          }
        }
      ]
    }
  ]
}